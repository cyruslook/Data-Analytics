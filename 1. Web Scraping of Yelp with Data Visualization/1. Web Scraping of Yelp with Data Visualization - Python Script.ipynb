{
 "cells": [
  {
   "cell_type": "code",
   "execution_count": 2,
   "metadata": {},
   "outputs": [],
   "source": [
    "# all the libraries we used for this project\n",
    "\n",
    "from pymongo import MongoClient\n",
    "import pandas as pd\n",
    "import numpy as np\n",
    "import requests\n",
    "import re\n",
    "import bs4 as bs\n",
    "import urllib\n",
    "import itertools\n",
    "import seaborn as sns\n",
    "from matplotlib import pyplot as plt"
   ]
  },
  {
   "cell_type": "code",
   "execution_count": 2,
   "metadata": {},
   "outputs": [],
   "source": [
    "#the url of yelp that we will be using starting at page 1\n",
    "source = urllib.request.urlopen('https://www.yelp.ca/search?find_desc=Restaurants&find_loc=Vancouver%2C%20BC&ns=1&start=0')"
   ]
  },
  {
   "cell_type": "code",
   "execution_count": 3,
   "metadata": {},
   "outputs": [],
   "source": [
    "#passing on the html.parser to beautifulsoup\n",
    "page_soup = bs.BeautifulSoup(source, 'html.parser')"
   ]
  },
  {
   "cell_type": "code",
   "execution_count": 4,
   "metadata": {},
   "outputs": [],
   "source": [
    "#the info we want to scrape is divided into 2 parts: Main attributes & Secondary attributes\n",
    "#main contains restaurant name, cuisine, rest rating, # of reviews, price\n",
    "#secondary contains address, phone# and neighbourhood\n",
    "mains = page_soup.find_all(\"div\", \n",
    "{\"class\": \"lemon--div__373c0__1mboc mainAttributes__373c0__1r0QA arrange-unit__373c0__o3tjT arrange-unit-fill__373c0__3Sfw1 border-color--default__373c0__3-ifU\"})"
   ]
  },
  {
   "cell_type": "code",
   "execution_count": 12,
   "metadata": {},
   "outputs": [
    {
     "name": "stdout",
     "output_type": "stream",
     "text": [
      "The Flying Pig - Yaletown\n"
     ]
    }
   ],
   "source": [
    "#restaurant name is under the \"a class\". Ran code to do a quick test to see if we can scrape business name\n",
    "main = mains[1]\n",
    "name = main.find('a').text\n",
    "print(name)"
   ]
  },
  {
   "cell_type": "code",
   "execution_count": 7,
   "metadata": {},
   "outputs": [
    {
     "name": "stdout",
     "output_type": "stream",
     "text": [
      "rest name: Spicy 6 Fine Indian Cuisine\n",
      "rest name: The Flying Pig - Yaletown\n",
      "rest name: Fable\n",
      "rest name: Tuc Craft Kitchen\n",
      "rest name: Saku\n",
      "rest name: The Flying Pig - Gastown\n",
      "rest name: Guu with Garlic\n",
      "rest name: Lunch Lady\n",
      "rest name: Kokoro Tokyo Mazesoba\n",
      "rest name: Dinesty Dumpling House\n",
      "rest name: Phnom Penh\n",
      "rest name: Chambar\n",
      "rest name: Fanny Bay Oyster Bar & Shellfish Market\n",
      "rest name: Blue Water Cafe\n",
      "rest name: Elisa\n",
      "rest name: Alibi Room\n",
      "rest name: Miku\n",
      "rest name: La Taqueria Pinche Taco Shop\n",
      "rest name: Kingyo\n",
      "rest name: So Hyang Korean Cuisine\n",
      "rest name: Downlow Chicken Shack\n",
      "rest name: Joe Fortes Seafood & Chop House\n",
      "rest name: Saku\n",
      "rest name: Tavola\n",
      "rest name: Local Gastown\n",
      "rest name: Rodney’s Oyster House\n",
      "rest name: Yu Shang Hot Pot\n",
      "rest name: ChiMec Fried Chicken & Burger\n",
      "rest name: Zefferelli’s\n",
      "rest name: ChongQing\n",
      "rest name: Forage\n"
     ]
    }
   ],
   "source": [
    "#using a for loop to print all restaurant names. We want to be able to debug quickly if we cant scrape the restaurant name.\n",
    "#if we are unable to find a restaurant name, the code will print \"none\" allowing us to see which row the code went wrong.\n",
    "#we were able to scrape all the names in page1\n",
    "for main in mains:\n",
    "    try:\n",
    "        name = main.find('a').text\n",
    "        print('rest name: '+ name)\n",
    "    except:\n",
    "        print(none)"
   ]
  },
  {
   "cell_type": "code",
   "execution_count": 7,
   "metadata": {},
   "outputs": [
    {
     "name": "stdout",
     "output_type": "stream",
     "text": [
      "Cuisine: Coffee & Tea\n",
      "Cuisine: Canadian (New)\n",
      "Cuisine: Japanese\n",
      "Cuisine: Canadian (New)\n",
      "Cuisine: Canadian (New)\n",
      "Cuisine: Vietnamese\n",
      "Cuisine: Chinese\n",
      "Cuisine: Cambodian\n",
      "Cuisine: Japanese\n",
      "Cuisine: Canadian (New)\n",
      "Cuisine: Chicken Shop\n",
      "Cuisine: Korean\n",
      "Cuisine: Chicken Shop\n",
      "Cuisine: Seafood\n",
      "Cuisine: Asian Fusion\n",
      "Cuisine: Japanese\n",
      "Cuisine: Korean\n",
      "Cuisine: Caribbean\n",
      "Cuisine: Belgian\n",
      "Cuisine: Burgers\n",
      "Cuisine: Singaporean\n",
      "Cuisine: Italian\n",
      "Cuisine: Japanese\n",
      "Cuisine: Vietnamese\n",
      "Cuisine: Lebanese\n",
      "Cuisine: Japanese\n",
      "Cuisine: Indonesian\n",
      "Cuisine: Canadian (New)\n",
      "Cuisine: Korean\n",
      "Cuisine: Japanese\n",
      "Cuisine: Taiwanese\n"
     ]
    }
   ],
   "source": [
    "#using a for loop to print all the cuisine type for restaurants. \n",
    "# same idea: we want to be able to debug quickly if we cant scrape the type of cuisine.\n",
    "#if we are unable to find a cuisine type, the code will print \"none\" allowing us to see which row the code went wrong.\n",
    "for main in mains:\n",
    "    try:\n",
    "        cuisine = main.find('a', {'class': 'lemon--a__373c0__IEZFH link__373c0__1G70M link-color--inherit__373c0__3dzpk link-size--default__373c0__7tls6'}).text\n",
    "        print('Cuisine: '+ cuisine)\n",
    "    except:\n",
    "        print('none')"
   ]
  },
  {
   "cell_type": "code",
   "execution_count": 8,
   "metadata": {},
   "outputs": [
    {
     "name": "stdout",
     "output_type": "stream",
     "text": [
      "none\n",
      "rest rating: 4 star rating\n",
      "rest rating: 4 star rating\n",
      "rest rating: 4 star rating\n",
      "rest rating: 4.5 star rating\n",
      "rest rating: 4.5 star rating\n",
      "rest rating: 4 star rating\n",
      "rest rating: 4 star rating\n",
      "rest rating: 4.5 star rating\n",
      "rest rating: 4 star rating\n",
      "rest rating: 4 star rating\n",
      "rest rating: 4.5 star rating\n",
      "rest rating: 4.5 star rating\n",
      "rest rating: 4.5 star rating\n",
      "rest rating: 4 star rating\n",
      "rest rating: 4 star rating\n",
      "rest rating: 4.5 star rating\n",
      "rest rating: 4.5 star rating\n",
      "rest rating: 4 star rating\n",
      "rest rating: 5 star rating\n",
      "rest rating: 4 star rating\n",
      "rest rating: 4.5 star rating\n",
      "rest rating: 4.5 star rating\n",
      "rest rating: 4.5 star rating\n",
      "rest rating: 5 star rating\n",
      "rest rating: 4.5 star rating\n",
      "rest rating: 4 star rating\n",
      "rest rating: 4.5 star rating\n",
      "rest rating: 4.5 star rating\n",
      "rest rating: 3 star rating\n",
      "rest rating: 5 star rating\n"
     ]
    }
   ],
   "source": [
    "#using a for loop to print all the ratings for restaurants. \n",
    "# same idea: we want to be able to debug quickly if we cant scrape the ratings.\n",
    "#if we are unable to find a rating, the code will print \"none\" allowing us to see which row the code went wrong.\n",
    "#we were able to scrape all the ratings in page1\n",
    "for main in mains:\n",
    "    try:\n",
    "        ratings = main.find('span', {'class': 'lemon--span__373c0__3997G display--inline__373c0__3JqBP border-color--default__373c0__3-ifU'}).div.get('aria-label')\n",
    "        print('rest rating: '+ ratings)\n",
    "    except:\n",
    "        print('none')"
   ]
  },
  {
   "cell_type": "code",
   "execution_count": 9,
   "metadata": {},
   "outputs": [
    {
     "name": "stdout",
     "output_type": "stream",
     "text": [
      "None\n",
      "Num of reviews: 950\n",
      "Num of reviews: 114\n",
      "Num of reviews: 1095\n",
      "Num of reviews: 676\n",
      "Num of reviews: 10\n",
      "Num of reviews: 776\n",
      "Num of reviews: 1303\n",
      "Num of reviews: 928\n",
      "Num of reviews: 931\n",
      "Num of reviews: 200\n",
      "Num of reviews: 6\n",
      "Num of reviews: 12\n",
      "Num of reviews: 900\n",
      "Num of reviews: 30\n",
      "Num of reviews: 326\n",
      "Num of reviews: 254\n",
      "Num of reviews: 10\n",
      "Num of reviews: 1347\n",
      "Num of reviews: 11\n",
      "Num of reviews: 70\n",
      "Num of reviews: 337\n",
      "Num of reviews: 836\n",
      "Num of reviews: 28\n",
      "Num of reviews: 190\n",
      "Num of reviews: 1783\n",
      "Num of reviews: 8\n",
      "Num of reviews: 10\n",
      "Num of reviews: 12\n",
      "Num of reviews: 9\n",
      "Num of reviews: 4\n"
     ]
    }
   ],
   "source": [
    "#now for num reviews\n",
    "for main in mains:\n",
    "    try:\n",
    "        reviews=(main.find(\"span\", {\"class\": \"lemon--span__373c0__3997G text__373c0__2Kxyz reviewCount__373c0__2r4xT text-color--black-extra-light__373c0__2OyzO text-align--left__373c0__2XGa-\"}).text)\n",
    "        print('Num of reviews: '+ reviews)\n",
    "    except:\n",
    "        print(None)"
   ]
  },
  {
   "cell_type": "code",
   "execution_count": 10,
   "metadata": {},
   "outputs": [
    {
     "name": "stdout",
     "output_type": "stream",
     "text": [
      "None\n",
      "Price: $$\n",
      "Price: $$\n",
      "Price: $$\n",
      "Price: $$\n",
      "None\n",
      "Price: $$\n",
      "Price: $$\n",
      "Price: $$\n",
      "Price: $$\n",
      "Price: $$\n",
      "None\n",
      "None\n",
      "Price: $$$\n",
      "None\n",
      "Price: $$\n",
      "Price: $$\n",
      "None\n",
      "Price: $$$\n",
      "None\n",
      "None\n",
      "Price: $$$\n",
      "Price: $$\n",
      "None\n",
      "Price: $\n",
      "Price: $$$\n",
      "None\n",
      "None\n",
      "None\n",
      "None\n",
      "None\n"
     ]
    }
   ],
   "source": [
    "#and for price\n",
    "#here, a result of none does not mean a bug in our code. From looking at the yelp page, a new restaurant will not have enough\n",
    "#reviews to determine a price point. \n",
    "for main in mains:\n",
    "    try:\n",
    "        price=(main.find(\"span\", {\"class\": \"lemon--span__373c0__3997G text__373c0__2Kxyz priceRange__373c0__2DY87 text-color--black-extra-light__373c0__2OyzO text-align--left__373c0__2XGa- text-bullet--after__373c0__3fS1Z\"}).text)\n",
    "        print('Price: '+ price)\n",
    "    except:\n",
    "        print(None)"
   ]
  },
  {
   "cell_type": "code",
   "execution_count": null,
   "metadata": {},
   "outputs": [],
   "source": [
    "####### change\n",
    "#the following is the list of classes we used for secondary attributes\n",
    "#secondary attribute class\n",
    "<div class=\"lemon--div__373c0__1mboc secondaryAttributes__373c0__7bA0w arrange-unit__373c0__o3tjT border-color--default__373c0__3-ifU\"><div class=\"lemon--div__373c0__1mboc padding-l2__373c0__1Dr82 border-color--default__373c0__3-ifU text-align--right__373c0__1XDu3\"><div class=\"lemon--div__373c0__1mboc border-color--default__373c0__3-ifU\"><div class=\"lemon--div__373c0__1mboc display--inline-block__373c0__1ZKqC border-color--default__373c0__3-ifU\"><div class=\"lemon--div__373c0__1mboc border-color--default__373c0__3-ifU\"><p class=\"lemon--p__373c0__3Qnnj text__373c0__2Kxyz text-color--black-extra-light__373c0__2OyzO text-align--right__373c0__1f0KI text-size--small__373c0__3NVWO\">(604) 568-1344</p></div></div></div><address class=\"lemon--address__373c0__2sPac\"><div class=\"lemon--div__373c0__1mboc border-color--default__373c0__3-ifU\"><div class=\"lemon--div__373c0__1mboc display--inline-block__373c0__1ZKqC border-color--default__373c0__3-ifU\"><div class=\"lemon--div__373c0__1mboc border-color--default__373c0__3-ifU\"><p class=\"lemon--p__373c0__3Qnnj text__373c0__2Kxyz text-color--black-extra-light__373c0__2OyzO text-align--right__373c0__1f0KI text-size--small__373c0__3NVWO\"><span class=\"lemon--span__373c0__3997G raw__373c0__3rcx7\">1168 Hamilton Street</span></p></div></div></div></address><div class=\"lemon--div__373c0__1mboc margin-b1__373c0__1khoT border-color--default__373c0__3-ifU\"><div class=\"lemon--div__373c0__1mboc border-color--default__373c0__3-ifU\"><div class=\"lemon--div__373c0__1mboc display--inline-block__373c0__1ZKqC border-color--default__373c0__3-ifU\"><div class=\"lemon--div__373c0__1mboc border-color--default__373c0__3-ifU\"><p class=\"lemon--p__373c0__3Qnnj text__373c0__2Kxyz text-color--black-extra-light__373c0__2OyzO text-align--right__373c0__1f0KI text-size--small__373c0__3NVWO\">Yaletown</p></div></div></div></div></div></div>\n",
    "#address class\n",
    "<span class=\"lemon--span__373c0__3997G raw__373c0__3rcx7\">1168 Hamilton Street</span>\n",
    "\n",
    "#phone class\n",
    "<p class=\"lemon--p__373c0__3Qnnj text__373c0__2Kxyz text-color--black-extra-light__373c0__2OyzO text-align--right__373c0__1f0KI text-size--small__373c0__3NVWO\">(604) 568-1344</p>\n",
    "\n",
    "#neighbourhood class\n",
    "<p class=\"lemon--p__373c0__3Qnnj text__373c0__2Kxyz text-color--black-extra-light__373c0__2OyzO text-align--right__373c0__1f0KI text-size--small__373c0__3NVWO\">Yaletown</p>"
   ]
  },
  {
   "cell_type": "code",
   "execution_count": 21,
   "metadata": {},
   "outputs": [],
   "source": [
    "#secondary attributes\n",
    "second = page_soup.find_all(\"div\", {\"class\":\"lemon--div__373c0__1mboc secondaryAttributes__373c0__7bA0w arrange-unit__373c0__o3tjT border-color--default__373c0__3-ifU\"})"
   ]
  },
  {
   "cell_type": "code",
   "execution_count": 72,
   "metadata": {},
   "outputs": [
    {
     "name": "stdout",
     "output_type": "stream",
     "text": [
      "Neighbourhood: (604) 566-9666\n",
      "Neighbourhood: (604) 568-4554\n",
      "Neighbourhood: (604) 872-2868\n",
      "Neighbourhood: (778) 955-9135\n",
      "Neighbourhood: (604) 252-3957\n",
      "Neighbourhood: (604) 568-8971\n",
      "Neighbourhood: (604) 737-1000\n",
      "Neighbourhood: (604) 558-3287\n",
      "Neighbourhood: (604) 258-0005\n",
      "Neighbourhood: (604) 620-1175\n",
      "Neighbourhood: (604) 873-1441\n",
      "Neighbourhood: (604) 569-8192\n",
      "Neighbourhood: (778) 246-1199\n",
      "Neighbourhood: (778) 896-4200\n",
      "Neighbourhood: (604) 565-3355\n",
      "Neighbourhood: (604) 253-2986\n",
      "Neighbourhood: (604) 720-9604\n",
      "Neighbourhood: 1260 Commercial Drive\n",
      "Neighbourhood: (604) 336-9266\n",
      "Neighbourhood: (604) 336-9822\n",
      "Neighbourhood: (604) 569-2278\n",
      "Neighbourhood: (604) 224-1912\n",
      "Neighbourhood: (604) 255-4155\n",
      "Neighbourhood: (604) 559-6878\n",
      "Neighbourhood: (604) 568-4351\n",
      "Neighbourhood: (604) 873-3131\n",
      "Neighbourhood: (604) 620-2500\n",
      "Neighbourhood: (604) 734-2818\n",
      "Neighbourhood: (604) 677-4247\n",
      "Neighbourhood: (604) 221-7777\n",
      "Neighbourhood: (604) 875-6246\n"
     ]
    }
   ],
   "source": [
    "# cant scrape for neighbourhood\n",
    "for sec in second:\n",
    "    try:\n",
    "        neigh = sec.find(\"p\" , {\"class\": \"lemon--p__373c0__3Qnnj text__373c0__2Kxyz text-color--black-extra-light__373c0__2OyzO text-align--right__373c0__1f0KI text-size--small__373c0__3NVWO\"}).get_text()\n",
    "        print('Neighbourhood: '+ neigh)\n",
    "    except: \n",
    "        print(None)"
   ]
  },
  {
   "cell_type": "code",
   "execution_count": 13,
   "metadata": {},
   "outputs": [
    {
     "data": {
      "text/plain": [
       "['(604) 609-9999',\n",
       " '1184 Denman Street',\n",
       " 'West End',\n",
       " '(604) 568-1344',\n",
       " '1168 Hamilton Street',\n",
       " 'Yaletown',\n",
       " '548 W Broadway',\n",
       " 'Fairview Slopes',\n",
       " '(604) 559-8999',\n",
       " '60 W Cordova Street',\n",
       " 'Gastown',\n",
       " '(604) 732-1322',\n",
       " '1944 W 4th Avenue',\n",
       " 'Kitsilano',\n",
       " '(604) 559-5938',\n",
       " '1046 Commercial Drive',\n",
       " 'Grandview-Woodlands',\n",
       " '(604) 559-7968',\n",
       " '102 Water Street',\n",
       " 'Gastown',\n",
       " '(604) 669-7769',\n",
       " '1719 Robson Street',\n",
       " 'West End',\n",
       " '(604) 428-8414',\n",
       " '1128 Robson Street',\n",
       " 'West End',\n",
       " '(604) 682-5777',\n",
       " '244 E Georgia Street',\n",
       " 'Strathcona',\n",
       " '(604) 688-8078',\n",
       " '1095 Hamilton St',\n",
       " 'Yaletown',\n",
       " '(604) 331-0058',\n",
       " '835 Denman St',\n",
       " 'West End',\n",
       " '(604) 685-8678',\n",
       " '1698 Robson Street',\n",
       " 'West End',\n",
       " '(604) 283-1385',\n",
       " '905 Commercial Drive',\n",
       " 'Grandview-Woodlands',\n",
       " '(604) 428-7722',\n",
       " '774 Denman Street',\n",
       " 'West End',\n",
       " '(604) 559-8872',\n",
       " '551 Seymour Street',\n",
       " 'Downtown',\n",
       " '(604) 362-5443',\n",
       " '1109 Hamilton Street',\n",
       " 'Yaletown',\n",
       " '(604) 729-0702',\n",
       " '6345 Fraser Street',\n",
       " 'Sunset',\n",
       " '(604) 434-0526',\n",
       " '2528 Kingsway',\n",
       " 'Renfrew-Collingwood',\n",
       " '(604) 879-7119',\n",
       " '568 Beatty Street',\n",
       " 'Downtown',\n",
       " '2287 West Broadway',\n",
       " 'Kitsilano',\n",
       " '(604) 423-3838',\n",
       " '1716 Kingsway',\n",
       " 'Kensington-Cedar Cottage',\n",
       " '(604) 606-4680',\n",
       " '1829 Robson Street',\n",
       " 'West End',\n",
       " '(604) 608-1677',\n",
       " '871 Denman Street',\n",
       " 'West End',\n",
       " '(778) 988-9257',\n",
       " '5118 Victoria Drive',\n",
       " 'Kensington-Cedar Cottage',\n",
       " '(604) 440-4402',\n",
       " '620 Davie Street',\n",
       " 'Granville Entertainment District',\n",
       " '(604) 568-3900',\n",
       " '200 Granville Street',\n",
       " 'Downtown',\n",
       " '(604) 620-6800',\n",
       " '811 West Pender',\n",
       " 'Downtown',\n",
       " '(604) 714-0233',\n",
       " '3211 W Broadway',\n",
       " 'Kitsilano',\n",
       " '(604) 879-4400',\n",
       " '446 West 8th Avenue',\n",
       " 'Mount Pleasant',\n",
       " '(604) 336-9163',\n",
       " '8335 Oak Street',\n",
       " 'Marpole']"
      ]
     },
     "execution_count": 13,
     "metadata": {},
     "output_type": "execute_result"
    }
   ],
   "source": [
    "#neighbourhood class\n",
    "# there is problem with neighbourhood class. The class contains info for phone #, address, and neighbourhood.\n",
    "#we will have to filter out neighbourhood and remove unwanted items\n",
    "[item.get_text() for item in page_soup.find_all('p', class_ =\n",
    "'lemon--p__373c0__3Qnnj text__373c0__2Kxyz text-color--black-extra-light__373c0__2OyzO text-align--right__373c0__1f0KI text-size--small__373c0__3NVWO')]"
   ]
  },
  {
   "cell_type": "code",
   "execution_count": 14,
   "metadata": {},
   "outputs": [
    {
     "data": {
      "text/plain": [
       "['None',\n",
       " 'None',\n",
       " 'West End',\n",
       " 'None',\n",
       " 'None',\n",
       " 'Yaletown',\n",
       " 'None',\n",
       " 'Fairview Slopes',\n",
       " 'None',\n",
       " 'None',\n",
       " 'Gastown',\n",
       " 'None',\n",
       " 'None',\n",
       " 'Kitsilano',\n",
       " 'None',\n",
       " 'None',\n",
       " 'Grandview-Woodlands',\n",
       " 'None',\n",
       " 'None',\n",
       " 'Gastown',\n",
       " 'None',\n",
       " 'None',\n",
       " 'West End',\n",
       " 'None',\n",
       " 'None',\n",
       " 'West End',\n",
       " 'None',\n",
       " 'None',\n",
       " 'Strathcona',\n",
       " 'None',\n",
       " 'None',\n",
       " 'Yaletown',\n",
       " 'None',\n",
       " 'None',\n",
       " 'West End',\n",
       " 'None',\n",
       " 'None',\n",
       " 'West End',\n",
       " 'None',\n",
       " 'None',\n",
       " 'Grandview-Woodlands',\n",
       " 'None',\n",
       " 'None',\n",
       " 'West End',\n",
       " 'None',\n",
       " 'None',\n",
       " 'Downtown',\n",
       " 'None',\n",
       " 'None',\n",
       " 'Yaletown',\n",
       " 'None',\n",
       " 'None',\n",
       " 'Sunset',\n",
       " 'None',\n",
       " 'None',\n",
       " 'Renfrew-Collingwood',\n",
       " 'None',\n",
       " 'None',\n",
       " 'Downtown',\n",
       " 'None',\n",
       " 'Kitsilano',\n",
       " 'None',\n",
       " 'None',\n",
       " 'Kensington-Cedar Cottage',\n",
       " 'None',\n",
       " 'None',\n",
       " 'West End',\n",
       " 'None',\n",
       " 'None',\n",
       " 'West End',\n",
       " 'None',\n",
       " 'None',\n",
       " 'Kensington-Cedar Cottage',\n",
       " 'None',\n",
       " 'None',\n",
       " 'Granville Entertainment District',\n",
       " 'None',\n",
       " 'None',\n",
       " 'Downtown',\n",
       " 'None',\n",
       " 'None',\n",
       " 'Downtown',\n",
       " 'None',\n",
       " 'None',\n",
       " 'Kitsilano',\n",
       " 'None',\n",
       " 'None',\n",
       " 'Mount Pleasant',\n",
       " 'None',\n",
       " 'None',\n",
       " 'Marpole']"
      ]
     },
     "execution_count": 14,
     "metadata": {},
     "output_type": "execute_result"
    }
   ],
   "source": [
    "n = [item.get_text() for item in page_soup.find_all('p', class_ = 'lemon--p__373c0__3Qnnj text__373c0__2Kxyz text-color--black-extra-light__373c0__2OyzO text-align--right__373c0__1f0KI text-size--small__373c0__3NVWO')]\n",
    "#n1 to change phone num and address to None\n",
    "n1 = [x if (bool(re.search(r'\\d+', x)) == False) else \"None\" for x in n]\n",
    "n1"
   ]
  },
  {
   "cell_type": "code",
   "execution_count": 19,
   "metadata": {},
   "outputs": [
    {
     "data": {
      "text/plain": [
       "['West End',\n",
       " 'Yaletown',\n",
       " 'Fairview Slopes',\n",
       " 'Gastown',\n",
       " 'Kitsilano',\n",
       " 'Grandview-Woodlands',\n",
       " 'Gastown',\n",
       " 'West End',\n",
       " 'West End',\n",
       " 'Strathcona',\n",
       " 'Yaletown',\n",
       " 'West End',\n",
       " 'West End',\n",
       " 'Grandview-Woodlands',\n",
       " 'West End',\n",
       " 'Downtown',\n",
       " 'Yaletown',\n",
       " 'Sunset',\n",
       " 'Renfrew-Collingwood',\n",
       " 'Downtown',\n",
       " 'Kitsilano',\n",
       " 'Kensington-Cedar Cottage',\n",
       " 'West End',\n",
       " 'West End',\n",
       " 'Kensington-Cedar Cottage',\n",
       " 'Granville Entertainment District',\n",
       " 'Downtown',\n",
       " 'Downtown',\n",
       " 'Kitsilano',\n",
       " 'Mount Pleasant',\n",
       " 'Marpole']"
      ]
     },
     "execution_count": 19,
     "metadata": {},
     "output_type": "execute_result"
    }
   ],
   "source": [
    "n = [item.get_text() for item in page_soup.find_all('p', class_ = 'lemon--p__373c0__3Qnnj text__373c0__2Kxyz text-color--black-extra-light__373c0__2OyzO text-align--right__373c0__1f0KI text-size--small__373c0__3NVWO')]\n",
    "#n1 to change phone num and address to None\n",
    "n1 = [x if (bool(re.search(r'\\d+', x)) == False) else \"None\" for x in n]\n",
    "n2 = list(filter(lambda x: x != 'None', n1))\n",
    "n2"
   ]
  },
  {
   "cell_type": "code",
   "execution_count": 17,
   "metadata": {},
   "outputs": [
    {
     "name": "stdout",
     "output_type": "stream",
     "text": [
      "Address: 1116 Robson Street\n",
      "Address: 548 W Broadway\n",
      "Address: 1168 Hamilton Street\n",
      "Address: 60 W Cordova Street\n",
      "Address: 102 Water Street\n",
      "Address: 1944 W 4th Avenue\n",
      "Address: 1698 Robson Street\n",
      "Address: 1046 Commercial Drive\n",
      "Address: 762 Cambie St\n",
      "Address: 1719 Robson Street\n",
      "Address: 200 Granville Street\n",
      "Address: 1095 Hamilton St\n",
      "Address: 551 Seymour Street\n",
      "Address: 871 Denman Street\n",
      "Address: 1109 Hamilton Street\n",
      "Address: 568 Beatty Street\n",
      "Address: 244 E Georgia Street\n",
      "Address: 6345 Fraser Street\n",
      "Address: 835 Denman St\n",
      "Address: 157 Alexander Street\n",
      "Address: 1829 Robson Street\n",
      "Address: 1127 Mainland Street\n",
      "Address: Located in The Listel Hotel\n",
      "Address: 2450 Yukon Street\n",
      "Address: 905 Commercial Drive\n",
      "Address: 774 Denman Street\n",
      "Address: 1128 Robson Street\n",
      "Address: 777 Thurlow Street\n",
      "Address: 1136 Robson Street\n",
      "Address: 2340 W 4th Avenue\n",
      "Address: 3 Alexander Street\n"
     ]
    }
   ],
   "source": [
    "#same idea as before, now for secondary attributes. Find class + tag and scrape data\n",
    "#run for loop to obtain addresses\n",
    "for sec in second:\n",
    "    try:\n",
    "        address = sec.find(\"span\", {\"class\": \"lemon--span__373c0__3997G raw__373c0__3rcx7\"}).text\n",
    "        print('Address: '+ address)\n",
    "    except:\n",
    "        print(None)"
   ]
  },
  {
   "cell_type": "code",
   "execution_count": 22,
   "metadata": {},
   "outputs": [],
   "source": [
    "# for loop to obtain tel#\n",
    "#some phone# werent in the right tags and classes, will have to manually remove and filter after\n",
    "tel = []\n",
    "for sec in second:\n",
    "    try:\n",
    "        tel.append(sec.find(\"p\" , {\"class\": \"lemon--p__373c0__3Qnnj text__373c0__2Kxyz text-color--black-extra-light__373c0__2OyzO text-align--right__373c0__1f0KI text-size--small__373c0__3NVWO\"}).get_text())\n",
    "    except: \n",
    "        tel.append(\"None\")"
   ]
  },
  {
   "cell_type": "code",
   "execution_count": 23,
   "metadata": {},
   "outputs": [
    {
     "data": {
      "text/plain": [
       "['(604) 609-9999',\n",
       " '(604) 568-1344',\n",
       " '548 W Broadway',\n",
       " '(604) 559-8999',\n",
       " '(604) 732-1322',\n",
       " '(604) 559-5938',\n",
       " '(604) 559-7968',\n",
       " '(604) 669-7769',\n",
       " '(604) 428-8414',\n",
       " '(604) 682-5777',\n",
       " '(604) 688-8078',\n",
       " '(604) 331-0058',\n",
       " '(604) 685-8678',\n",
       " '(604) 283-1385',\n",
       " '(604) 428-7722',\n",
       " '(604) 559-8872',\n",
       " '(604) 362-5443',\n",
       " '(604) 729-0702',\n",
       " '(604) 434-0526',\n",
       " '(604) 879-7119',\n",
       " '2287 West Broadway',\n",
       " '(604) 423-3838',\n",
       " '(604) 606-4680',\n",
       " '(604) 608-1677',\n",
       " '(778) 988-9257',\n",
       " '(604) 440-4402',\n",
       " '(604) 568-3900',\n",
       " '(604) 620-6800',\n",
       " '(604) 714-0233',\n",
       " '(604) 879-4400',\n",
       " '(604) 336-9163']"
      ]
     },
     "execution_count": 23,
     "metadata": {},
     "output_type": "execute_result"
    }
   ],
   "source": [
    "tel"
   ]
  },
  {
   "cell_type": "code",
   "execution_count": 26,
   "metadata": {},
   "outputs": [
    {
     "data": {
      "text/plain": [
       "['(604) 609-9999',\n",
       " '(604) 568-1344',\n",
       " 'None',\n",
       " '(604) 559-8999',\n",
       " '(604) 732-1322',\n",
       " '(604) 559-5938',\n",
       " '(604) 559-7968',\n",
       " '(604) 669-7769',\n",
       " '(604) 428-8414',\n",
       " '(604) 682-5777',\n",
       " '(604) 688-8078',\n",
       " '(604) 331-0058',\n",
       " '(604) 685-8678',\n",
       " '(604) 283-1385',\n",
       " '(604) 428-7722',\n",
       " '(604) 559-8872',\n",
       " '(604) 362-5443',\n",
       " '(604) 729-0702',\n",
       " '(604) 434-0526',\n",
       " '(604) 879-7119',\n",
       " 'None',\n",
       " '(604) 423-3838',\n",
       " '(604) 606-4680',\n",
       " '(604) 608-1677',\n",
       " '(778) 988-9257',\n",
       " '(604) 440-4402',\n",
       " '(604) 568-3900',\n",
       " '(604) 620-6800',\n",
       " '(604) 714-0233',\n",
       " '(604) 879-4400',\n",
       " '(604) 336-9163']"
      ]
     },
     "execution_count": 26,
     "metadata": {},
     "output_type": "execute_result"
    }
   ],
   "source": [
    "#regex to filter proper phone#s\n",
    "new_tel = [x if (bool(re.search(r'[0-9]{10}|[0-9]{3}-[0-9]{3}-[0-9]{4}|\\([0-9]{3}\\)[0-9]{3}-[0-9]{4}|\\(\\d\\d\\d\\)\\s\\d\\d\\d-\\d\\d\\d\\d', x)) == True) else \"None\" for x in tel]\n",
    "new_tel"
   ]
  },
  {
   "cell_type": "code",
   "execution_count": 27,
   "metadata": {},
   "outputs": [],
   "source": [
    "#appending everything to a list\n",
    "name = []\n",
    "cuisine = []\n",
    "ratings = []\n",
    "reviews = []\n",
    "price = []\n",
    "add = []\n",
    "tel = []\n",
    "#dont need list for neighbourhood because it is already in a list"
   ]
  },
  {
   "cell_type": "code",
   "execution_count": 28,
   "metadata": {},
   "outputs": [],
   "source": [
    "for main in mains:\n",
    "    try:\n",
    "        name.append(main.find('a').text)\n",
    "    except:\n",
    "        name.append('none')\n",
    "    try:\n",
    "        cuisine.append(main.find('a', {'class': 'lemon--a__373c0__IEZFH link__373c0__1G70M link-color--inherit__373c0__3dzpk link-size--default__373c0__7tls6'}).text)\n",
    "    except:\n",
    "        cuisine.append('none')\n",
    "    try:\n",
    "        ratings.append(main.find('span', {'class': 'lemon--span__373c0__3997G display--inline__373c0__3JqBP border-color--default__373c0__3-ifU'}).div.get('aria-label'))\n",
    "    except:\n",
    "        ratings.append('none')\n",
    "    try:\n",
    "        reviews.append(main.find(\"span\", {\"class\": \"lemon--span__373c0__3997G text__373c0__2Kxyz reviewCount__373c0__2r4xT text-color--black-extra-light__373c0__2OyzO text-align--left__373c0__2XGa-\"}).text)\n",
    "    except:\n",
    "        reviews.append('none')\n",
    "    try:\n",
    "        price.append(main.find(\"span\", {\"class\": \"lemon--span__373c0__3997G text__373c0__2Kxyz priceRange__373c0__2DY87 text-color--black-extra-light__373c0__2OyzO text-align--left__373c0__2XGa- text-bullet--after__373c0__3fS1Z\"}).text)\n",
    "    except:\n",
    "        price.append('none')"
   ]
  },
  {
   "cell_type": "code",
   "execution_count": 29,
   "metadata": {},
   "outputs": [],
   "source": [
    "#just combining all the loops together for secondary attributes\n",
    "for sec in second:\n",
    "    try:       \n",
    "        add.append(sec.find(\"span\", {\"class\": \"lemon--span__373c0__3997G raw__373c0__3rcx7\"}).text)\n",
    "    except:\n",
    "        add.append(\"None\")\n",
    "    try:\n",
    "        tel.append(sec.find(\"p\" , {\"class\": \"lemon--p__373c0__3Qnnj text__373c0__2Kxyz text-color--black-extra-light__373c0__2OyzO text-align--right__373c0__1f0KI text-size--small__373c0__3NVWO\"}).get_text())\n",
    "    except: \n",
    "        tel.append(\"None\")\n",
    "        \n",
    "n = [item.get_text() for item in page_soup.find_all('p', class_ = 'lemon--p__373c0__3Qnnj text__373c0__2Kxyz text-color--black-extra-light__373c0__2OyzO text-align--right__373c0__1f0KI text-size--small__373c0__3NVWO')]\n",
    "n1 = [x if (bool(re.search(r'\\d+', x)) == False) else \"None\" for x in n]\n",
    "n2 = list(filter(lambda x: x != 'None', n1))\n",
    "new_tel = [x if (bool(re.search(r'[0-9]{10}|[0-9]{3}-[0-9]{3}-[0-9]{4}|\\([0-9]{3}\\)[0-9]{3}-[0-9]{4}|\\(\\d\\d\\d\\)\\s\\d\\d\\d-\\d\\d\\d\\d', x)) == True) else \"None\" for x in tel]            "
   ]
  },
  {
   "cell_type": "code",
   "execution_count": 32,
   "metadata": {},
   "outputs": [],
   "source": [
    "#combining everything to a dataframe\n",
    "data = {}\n",
    "#giving values\n",
    "data = {'Restaurant_Name': name, 'Cuisine': cuisine, 'Restaurant_Ratings': ratings, 'Restaurant_Reviews': reviews, \n",
    "        'Restaurant_Price': price, 'Restaurant_Address': add, 'Restaurant_Telephone': new_tel, 'Neighbourhood': n2}\n",
    "rest = pd.DataFrame(data)\n",
    "#giving headers for our csv output if needed\n",
    "header = [\"Restaurant_Name\", \"Cuisine\", \"Restaurant_Ratings\", \"Restaurant_Reviews\", \"Restaurant_Price\", \"Restaurant_Address\", \"Restaurant_Telephone\", \"Neighbourhood\"]\n",
    "#extra line to convert dataframe to an csv file if needed:\n",
    "#rest.to_csv(\"Output.csv\", columns = header)"
   ]
  },
  {
   "cell_type": "code",
   "execution_count": 33,
   "metadata": {},
   "outputs": [
    {
     "data": {
      "text/html": [
       "<div>\n",
       "<style scoped>\n",
       "    .dataframe tbody tr th:only-of-type {\n",
       "        vertical-align: middle;\n",
       "    }\n",
       "\n",
       "    .dataframe tbody tr th {\n",
       "        vertical-align: top;\n",
       "    }\n",
       "\n",
       "    .dataframe thead th {\n",
       "        text-align: right;\n",
       "    }\n",
       "</style>\n",
       "<table border=\"1\" class=\"dataframe\">\n",
       "  <thead>\n",
       "    <tr style=\"text-align: right;\">\n",
       "      <th></th>\n",
       "      <th>Restaurant_Name</th>\n",
       "      <th>Cuisine</th>\n",
       "      <th>Restaurant_Ratings</th>\n",
       "      <th>Restaurant_Reviews</th>\n",
       "      <th>Restaurant_Price</th>\n",
       "      <th>Restaurant_Address</th>\n",
       "      <th>Restaurant_Telephone</th>\n",
       "      <th>Neighbourhood</th>\n",
       "    </tr>\n",
       "  </thead>\n",
       "  <tbody>\n",
       "    <tr>\n",
       "      <th>0</th>\n",
       "      <td>Beeryani Indian Bistro &amp; Bar</td>\n",
       "      <td>Indian</td>\n",
       "      <td>5 star rating</td>\n",
       "      <td>10</td>\n",
       "      <td>none</td>\n",
       "      <td>1184 Denman Street</td>\n",
       "      <td>(604) 609-9999</td>\n",
       "      <td>West End</td>\n",
       "    </tr>\n",
       "    <tr>\n",
       "      <th>1</th>\n",
       "      <td>The Flying Pig - Yaletown</td>\n",
       "      <td>Canadian (New)</td>\n",
       "      <td>4 star rating</td>\n",
       "      <td>1095</td>\n",
       "      <td>$$</td>\n",
       "      <td>1168 Hamilton Street</td>\n",
       "      <td>(604) 568-1344</td>\n",
       "      <td>Yaletown</td>\n",
       "    </tr>\n",
       "    <tr>\n",
       "      <th>2</th>\n",
       "      <td>Saku</td>\n",
       "      <td>Japanese</td>\n",
       "      <td>4.5 star rating</td>\n",
       "      <td>116</td>\n",
       "      <td>$$</td>\n",
       "      <td>548 W Broadway</td>\n",
       "      <td>None</td>\n",
       "      <td>Fairview Slopes</td>\n",
       "    </tr>\n",
       "    <tr>\n",
       "      <th>3</th>\n",
       "      <td>Tuc Craft Kitchen</td>\n",
       "      <td>Canadian (New)</td>\n",
       "      <td>4 star rating</td>\n",
       "      <td>950</td>\n",
       "      <td>$$</td>\n",
       "      <td>60 W Cordova Street</td>\n",
       "      <td>(604) 559-8999</td>\n",
       "      <td>Gastown</td>\n",
       "    </tr>\n",
       "    <tr>\n",
       "      <th>4</th>\n",
       "      <td>Fable</td>\n",
       "      <td>Canadian (New)</td>\n",
       "      <td>4.5 star rating</td>\n",
       "      <td>676</td>\n",
       "      <td>$$</td>\n",
       "      <td>1944 W 4th Avenue</td>\n",
       "      <td>(604) 732-1322</td>\n",
       "      <td>Kitsilano</td>\n",
       "    </tr>\n",
       "    <tr>\n",
       "      <th>5</th>\n",
       "      <td>Lunch Lady</td>\n",
       "      <td>Vietnamese</td>\n",
       "      <td>4.5 star rating</td>\n",
       "      <td>10</td>\n",
       "      <td>none</td>\n",
       "      <td>1046 Commercial Drive</td>\n",
       "      <td>(604) 559-5938</td>\n",
       "      <td>Grandview-Woodlands</td>\n",
       "    </tr>\n",
       "    <tr>\n",
       "      <th>6</th>\n",
       "      <td>The Flying Pig - Gastown</td>\n",
       "      <td>Canadian (New)</td>\n",
       "      <td>4 star rating</td>\n",
       "      <td>932</td>\n",
       "      <td>$$</td>\n",
       "      <td>102 Water Street</td>\n",
       "      <td>(604) 559-7968</td>\n",
       "      <td>Gastown</td>\n",
       "    </tr>\n",
       "    <tr>\n",
       "      <th>7</th>\n",
       "      <td>Dinesty Dumpling House</td>\n",
       "      <td>Chinese</td>\n",
       "      <td>4 star rating</td>\n",
       "      <td>777</td>\n",
       "      <td>$$</td>\n",
       "      <td>1719 Robson Street</td>\n",
       "      <td>(604) 669-7769</td>\n",
       "      <td>West End</td>\n",
       "    </tr>\n",
       "    <tr>\n",
       "      <th>8</th>\n",
       "      <td>Kosoo</td>\n",
       "      <td>Korean</td>\n",
       "      <td>4.5 star rating</td>\n",
       "      <td>6</td>\n",
       "      <td>none</td>\n",
       "      <td>1128 Robson Street</td>\n",
       "      <td>(604) 428-8414</td>\n",
       "      <td>West End</td>\n",
       "    </tr>\n",
       "    <tr>\n",
       "      <th>9</th>\n",
       "      <td>Phnom Penh</td>\n",
       "      <td>Cambodian</td>\n",
       "      <td>4 star rating</td>\n",
       "      <td>1303</td>\n",
       "      <td>$$</td>\n",
       "      <td>244 E Georgia Street</td>\n",
       "      <td>(604) 682-5777</td>\n",
       "      <td>Strathcona</td>\n",
       "    </tr>\n",
       "    <tr>\n",
       "      <th>10</th>\n",
       "      <td>Blue Water Cafe</td>\n",
       "      <td>Seafood</td>\n",
       "      <td>4.5 star rating</td>\n",
       "      <td>902</td>\n",
       "      <td>$$$</td>\n",
       "      <td>1095 Hamilton St</td>\n",
       "      <td>(604) 688-8078</td>\n",
       "      <td>Yaletown</td>\n",
       "    </tr>\n",
       "    <tr>\n",
       "      <th>11</th>\n",
       "      <td>ChiMec Fried Chicken &amp; Burger</td>\n",
       "      <td>Chicken Shop</td>\n",
       "      <td>4.5 star rating</td>\n",
       "      <td>15</td>\n",
       "      <td>none</td>\n",
       "      <td>835 Denman St</td>\n",
       "      <td>(604) 331-0058</td>\n",
       "      <td>West End</td>\n",
       "    </tr>\n",
       "    <tr>\n",
       "      <th>12</th>\n",
       "      <td>Guu with Garlic</td>\n",
       "      <td>Japanese</td>\n",
       "      <td>4.5 star rating</td>\n",
       "      <td>930</td>\n",
       "      <td>$$</td>\n",
       "      <td>1698 Robson Street</td>\n",
       "      <td>(604) 685-8678</td>\n",
       "      <td>West End</td>\n",
       "    </tr>\n",
       "    <tr>\n",
       "      <th>13</th>\n",
       "      <td>Downlow Chicken Shack</td>\n",
       "      <td>Chicken Shop</td>\n",
       "      <td>4 star rating</td>\n",
       "      <td>201</td>\n",
       "      <td>$$</td>\n",
       "      <td>905 Commercial Drive</td>\n",
       "      <td>(604) 283-1385</td>\n",
       "      <td>Grandview-Woodlands</td>\n",
       "    </tr>\n",
       "    <tr>\n",
       "      <th>14</th>\n",
       "      <td>Jingle Bao</td>\n",
       "      <td>Asian Fusion</td>\n",
       "      <td>4 star rating</td>\n",
       "      <td>31</td>\n",
       "      <td>none</td>\n",
       "      <td>774 Denman Street</td>\n",
       "      <td>(604) 428-7722</td>\n",
       "      <td>West End</td>\n",
       "    </tr>\n",
       "    <tr>\n",
       "      <th>15</th>\n",
       "      <td>Kokoro Tokyo Mazesoba</td>\n",
       "      <td>Japanese</td>\n",
       "      <td>4 star rating</td>\n",
       "      <td>326</td>\n",
       "      <td>$$</td>\n",
       "      <td>551 Seymour Street</td>\n",
       "      <td>(604) 559-8872</td>\n",
       "      <td>Downtown</td>\n",
       "    </tr>\n",
       "    <tr>\n",
       "      <th>16</th>\n",
       "      <td>Elisa</td>\n",
       "      <td>Steakhouses</td>\n",
       "      <td>4.5 star rating</td>\n",
       "      <td>102</td>\n",
       "      <td>$$$</td>\n",
       "      <td>1109 Hamilton Street</td>\n",
       "      <td>(604) 362-5443</td>\n",
       "      <td>Yaletown</td>\n",
       "    </tr>\n",
       "    <tr>\n",
       "      <th>17</th>\n",
       "      <td>So Hyang Korean Cuisine</td>\n",
       "      <td>Korean</td>\n",
       "      <td>4.5 star rating</td>\n",
       "      <td>254</td>\n",
       "      <td>$$</td>\n",
       "      <td>6345 Fraser Street</td>\n",
       "      <td>(604) 729-0702</td>\n",
       "      <td>Sunset</td>\n",
       "    </tr>\n",
       "    <tr>\n",
       "      <th>18</th>\n",
       "      <td>I &amp; I Jamaican Restaurant</td>\n",
       "      <td>Caribbean</td>\n",
       "      <td>4.5 star rating</td>\n",
       "      <td>10</td>\n",
       "      <td>none</td>\n",
       "      <td>2528 Kingsway</td>\n",
       "      <td>(604) 434-0526</td>\n",
       "      <td>Renfrew-Collingwood</td>\n",
       "    </tr>\n",
       "    <tr>\n",
       "      <th>19</th>\n",
       "      <td>Chambar</td>\n",
       "      <td>Belgian</td>\n",
       "      <td>4 star rating</td>\n",
       "      <td>1349</td>\n",
       "      <td>$$$</td>\n",
       "      <td>568 Beatty Street</td>\n",
       "      <td>(604) 879-7119</td>\n",
       "      <td>Downtown</td>\n",
       "    </tr>\n",
       "    <tr>\n",
       "      <th>20</th>\n",
       "      <td>Mimi’s Burgers</td>\n",
       "      <td>Burgers</td>\n",
       "      <td>5 star rating</td>\n",
       "      <td>11</td>\n",
       "      <td>none</td>\n",
       "      <td>2287 West Broadway</td>\n",
       "      <td>None</td>\n",
       "      <td>Kitsilano</td>\n",
       "    </tr>\n",
       "    <tr>\n",
       "      <th>21</th>\n",
       "      <td>Shiok Singapore Cuisine</td>\n",
       "      <td>Singaporean</td>\n",
       "      <td>4 star rating</td>\n",
       "      <td>70</td>\n",
       "      <td>none</td>\n",
       "      <td>1716 Kingsway</td>\n",
       "      <td>(604) 423-3838</td>\n",
       "      <td>Kensington-Cedar Cottage</td>\n",
       "    </tr>\n",
       "    <tr>\n",
       "      <th>22</th>\n",
       "      <td>Tavola</td>\n",
       "      <td>Italian</td>\n",
       "      <td>4.5 star rating</td>\n",
       "      <td>336</td>\n",
       "      <td>$$$</td>\n",
       "      <td>1829 Robson Street</td>\n",
       "      <td>(604) 606-4680</td>\n",
       "      <td>West End</td>\n",
       "    </tr>\n",
       "    <tr>\n",
       "      <th>23</th>\n",
       "      <td>Kingyo</td>\n",
       "      <td>Japanese</td>\n",
       "      <td>4.5 star rating</td>\n",
       "      <td>836</td>\n",
       "      <td>$$</td>\n",
       "      <td>871 Denman Street</td>\n",
       "      <td>(604) 608-1677</td>\n",
       "      <td>West End</td>\n",
       "    </tr>\n",
       "    <tr>\n",
       "      <th>24</th>\n",
       "      <td>Viet Mama Cafe</td>\n",
       "      <td>Vietnamese</td>\n",
       "      <td>4.5 star rating</td>\n",
       "      <td>28</td>\n",
       "      <td>none</td>\n",
       "      <td>5118 Victoria Drive</td>\n",
       "      <td>(778) 988-9257</td>\n",
       "      <td>Kensington-Cedar Cottage</td>\n",
       "    </tr>\n",
       "    <tr>\n",
       "      <th>25</th>\n",
       "      <td>Manoush’eh</td>\n",
       "      <td>Lebanese</td>\n",
       "      <td>5 star rating</td>\n",
       "      <td>190</td>\n",
       "      <td>$</td>\n",
       "      <td>620 Davie Street</td>\n",
       "      <td>(604) 440-4402</td>\n",
       "      <td>Granville Entertainment District</td>\n",
       "    </tr>\n",
       "    <tr>\n",
       "      <th>26</th>\n",
       "      <td>Miku</td>\n",
       "      <td>Japanese</td>\n",
       "      <td>4.5 star rating</td>\n",
       "      <td>1785</td>\n",
       "      <td>$$$</td>\n",
       "      <td>200 Granville Street</td>\n",
       "      <td>(604) 568-3900</td>\n",
       "      <td>Downtown</td>\n",
       "    </tr>\n",
       "    <tr>\n",
       "      <th>27</th>\n",
       "      <td>Open Outcry</td>\n",
       "      <td>Canadian (New)</td>\n",
       "      <td>4.5 star rating</td>\n",
       "      <td>10</td>\n",
       "      <td>none</td>\n",
       "      <td>811 West Pender</td>\n",
       "      <td>(604) 620-6800</td>\n",
       "      <td>Downtown</td>\n",
       "    </tr>\n",
       "    <tr>\n",
       "      <th>28</th>\n",
       "      <td>Midam Cafe</td>\n",
       "      <td>Korean</td>\n",
       "      <td>4.5 star rating</td>\n",
       "      <td>12</td>\n",
       "      <td>none</td>\n",
       "      <td>3211 W Broadway</td>\n",
       "      <td>(604) 714-0233</td>\n",
       "      <td>Kitsilano</td>\n",
       "    </tr>\n",
       "    <tr>\n",
       "      <th>29</th>\n",
       "      <td>Mr Japanese Curry</td>\n",
       "      <td>Japanese</td>\n",
       "      <td>3 star rating</td>\n",
       "      <td>9</td>\n",
       "      <td>none</td>\n",
       "      <td>446 West 8th Avenue</td>\n",
       "      <td>(604) 879-4400</td>\n",
       "      <td>Mount Pleasant</td>\n",
       "    </tr>\n",
       "    <tr>\n",
       "      <th>30</th>\n",
       "      <td>Kitchen By Maji</td>\n",
       "      <td>Taiwanese</td>\n",
       "      <td>5 star rating</td>\n",
       "      <td>4</td>\n",
       "      <td>none</td>\n",
       "      <td>8335 Oak Street</td>\n",
       "      <td>(604) 336-9163</td>\n",
       "      <td>Marpole</td>\n",
       "    </tr>\n",
       "  </tbody>\n",
       "</table>\n",
       "</div>"
      ],
      "text/plain": [
       "                  Restaurant_Name         Cuisine Restaurant_Ratings  \\\n",
       "0    Beeryani Indian Bistro & Bar          Indian      5 star rating   \n",
       "1       The Flying Pig - Yaletown  Canadian (New)      4 star rating   \n",
       "2                            Saku        Japanese    4.5 star rating   \n",
       "3               Tuc Craft Kitchen  Canadian (New)      4 star rating   \n",
       "4                           Fable  Canadian (New)    4.5 star rating   \n",
       "5                      Lunch Lady      Vietnamese    4.5 star rating   \n",
       "6        The Flying Pig - Gastown  Canadian (New)      4 star rating   \n",
       "7          Dinesty Dumpling House         Chinese      4 star rating   \n",
       "8                           Kosoo          Korean    4.5 star rating   \n",
       "9                      Phnom Penh       Cambodian      4 star rating   \n",
       "10                Blue Water Cafe         Seafood    4.5 star rating   \n",
       "11  ChiMec Fried Chicken & Burger    Chicken Shop    4.5 star rating   \n",
       "12                Guu with Garlic        Japanese    4.5 star rating   \n",
       "13          Downlow Chicken Shack    Chicken Shop      4 star rating   \n",
       "14                     Jingle Bao    Asian Fusion      4 star rating   \n",
       "15          Kokoro Tokyo Mazesoba        Japanese      4 star rating   \n",
       "16                          Elisa     Steakhouses    4.5 star rating   \n",
       "17        So Hyang Korean Cuisine          Korean    4.5 star rating   \n",
       "18      I & I Jamaican Restaurant       Caribbean    4.5 star rating   \n",
       "19                        Chambar         Belgian      4 star rating   \n",
       "20                 Mimi’s Burgers         Burgers      5 star rating   \n",
       "21        Shiok Singapore Cuisine     Singaporean      4 star rating   \n",
       "22                         Tavola         Italian    4.5 star rating   \n",
       "23                         Kingyo        Japanese    4.5 star rating   \n",
       "24                 Viet Mama Cafe      Vietnamese    4.5 star rating   \n",
       "25                     Manoush’eh        Lebanese      5 star rating   \n",
       "26                           Miku        Japanese    4.5 star rating   \n",
       "27                    Open Outcry  Canadian (New)    4.5 star rating   \n",
       "28                     Midam Cafe          Korean    4.5 star rating   \n",
       "29              Mr Japanese Curry        Japanese      3 star rating   \n",
       "30                Kitchen By Maji       Taiwanese      5 star rating   \n",
       "\n",
       "   Restaurant_Reviews Restaurant_Price     Restaurant_Address  \\\n",
       "0                  10             none     1184 Denman Street   \n",
       "1                1095               $$   1168 Hamilton Street   \n",
       "2                 116               $$         548 W Broadway   \n",
       "3                 950               $$    60 W Cordova Street   \n",
       "4                 676               $$      1944 W 4th Avenue   \n",
       "5                  10             none  1046 Commercial Drive   \n",
       "6                 932               $$       102 Water Street   \n",
       "7                 777               $$     1719 Robson Street   \n",
       "8                   6             none     1128 Robson Street   \n",
       "9                1303               $$   244 E Georgia Street   \n",
       "10                902              $$$       1095 Hamilton St   \n",
       "11                 15             none          835 Denman St   \n",
       "12                930               $$     1698 Robson Street   \n",
       "13                201               $$   905 Commercial Drive   \n",
       "14                 31             none      774 Denman Street   \n",
       "15                326               $$     551 Seymour Street   \n",
       "16                102              $$$   1109 Hamilton Street   \n",
       "17                254               $$     6345 Fraser Street   \n",
       "18                 10             none          2528 Kingsway   \n",
       "19               1349              $$$      568 Beatty Street   \n",
       "20                 11             none     2287 West Broadway   \n",
       "21                 70             none          1716 Kingsway   \n",
       "22                336              $$$     1829 Robson Street   \n",
       "23                836               $$      871 Denman Street   \n",
       "24                 28             none    5118 Victoria Drive   \n",
       "25                190                $       620 Davie Street   \n",
       "26               1785              $$$   200 Granville Street   \n",
       "27                 10             none        811 West Pender   \n",
       "28                 12             none        3211 W Broadway   \n",
       "29                  9             none    446 West 8th Avenue   \n",
       "30                  4             none        8335 Oak Street   \n",
       "\n",
       "   Restaurant_Telephone                     Neighbourhood  \n",
       "0        (604) 609-9999                          West End  \n",
       "1        (604) 568-1344                          Yaletown  \n",
       "2                  None                   Fairview Slopes  \n",
       "3        (604) 559-8999                           Gastown  \n",
       "4        (604) 732-1322                         Kitsilano  \n",
       "5        (604) 559-5938               Grandview-Woodlands  \n",
       "6        (604) 559-7968                           Gastown  \n",
       "7        (604) 669-7769                          West End  \n",
       "8        (604) 428-8414                          West End  \n",
       "9        (604) 682-5777                        Strathcona  \n",
       "10       (604) 688-8078                          Yaletown  \n",
       "11       (604) 331-0058                          West End  \n",
       "12       (604) 685-8678                          West End  \n",
       "13       (604) 283-1385               Grandview-Woodlands  \n",
       "14       (604) 428-7722                          West End  \n",
       "15       (604) 559-8872                          Downtown  \n",
       "16       (604) 362-5443                          Yaletown  \n",
       "17       (604) 729-0702                            Sunset  \n",
       "18       (604) 434-0526               Renfrew-Collingwood  \n",
       "19       (604) 879-7119                          Downtown  \n",
       "20                 None                         Kitsilano  \n",
       "21       (604) 423-3838          Kensington-Cedar Cottage  \n",
       "22       (604) 606-4680                          West End  \n",
       "23       (604) 608-1677                          West End  \n",
       "24       (778) 988-9257          Kensington-Cedar Cottage  \n",
       "25       (604) 440-4402  Granville Entertainment District  \n",
       "26       (604) 568-3900                          Downtown  \n",
       "27       (604) 620-6800                          Downtown  \n",
       "28       (604) 714-0233                         Kitsilano  \n",
       "29       (604) 879-4400                    Mount Pleasant  \n",
       "30       (604) 336-9163                           Marpole  "
      ]
     },
     "execution_count": 33,
     "metadata": {},
     "output_type": "execute_result"
    }
   ],
   "source": [
    "rest"
   ]
  },
  {
   "cell_type": "code",
   "execution_count": 35,
   "metadata": {},
   "outputs": [],
   "source": [
    "###### change\n",
    "\n",
    "#Now, for multi page scrapping. \n",
    "#Defined a quick function for BeautifulSoup using codes from prior: \n",
    "def make_soup(url):\n",
    "    source = urllib.request.urlopen(url)\n",
    "    page_soup = bs.BeautifulSoup(source, 'html.parser')\n",
    "    return page_soup"
   ]
  },
  {
   "cell_type": "markdown",
   "metadata": {},
   "source": [
    "Yelp Url for page one:\n",
    "https://www.yelp.ca/search?find_desc=Restaurants&find_loc=Vancouver%2C%20BC&ns=1&start=0\n",
    "\n",
    "Page 2: https://www.yelp.ca/search?find_desc=Restaurants&find_loc=Vancouver%2C%20BC&ns=1&start=30\n",
    "\n",
    "Page 3: https://www.yelp.ca/search?find_desc=Restaurants&find_loc=Vancouver%2C%20BC&ns=1&start=60\n",
    "\n",
    "The pattern is that the ending jumps by 30. We created a quick for loop to scrape multiple pages at a time: "
   ]
  },
  {
   "cell_type": "code",
   "execution_count": 74,
   "metadata": {},
   "outputs": [
    {
     "name": "stdout",
     "output_type": "stream",
     "text": [
      "0\n",
      "30\n",
      "60\n",
      "90\n",
      "120\n",
      "150\n",
      "180\n",
      "210\n"
     ]
    }
   ],
   "source": [
    "for x in range(0, 211, 30):\n",
    "    print(x)"
   ]
  },
  {
   "cell_type": "code",
   "execution_count": 36,
   "metadata": {},
   "outputs": [],
   "source": [
    "#had issue with length of neighbourhood not being the same as the other lists\n",
    "#realized that neighbourhood was a nested list\n",
    "#had to un-nest the list to make all the list the same length\n",
    "neigh = []\n",
    "for i in range(0, 31, 30): #only scrapping 2 pages for our example\n",
    "    soup = make_soup('https://www.yelp.ca/search?find_desc=Restaurants&find_loc=Vancouver%2C%20BC&ns=1&start=' + str(i))\n",
    "    n = [item.get_text() for item in soup.find_all('p', class_ = 'lemon--p__373c0__3Qnnj text__373c0__2Kxyz text-color--black-extra-light__373c0__2OyzO text-align--right__373c0__1f0KI text-size--small__373c0__3NVWO')]\n",
    "    n1 = [x if (bool(re.search(r'\\d+', x)) == False) else \"None\" for x in n]\n",
    "    n2 = list(filter(lambda x: x != 'None', n1))\n",
    "    neigh.append(n2)"
   ]
  },
  {
   "cell_type": "code",
   "execution_count": 45,
   "metadata": {},
   "outputs": [
    {
     "name": "stdout",
     "output_type": "stream",
     "text": [
      "[['Mount Pleasant', 'Yaletown', 'Fairview Slopes', 'Gastown', 'Kitsilano', 'Grandview-Woodlands', 'Gastown', 'West End', 'West End', 'Strathcona', 'West End', 'West End', 'Grandview-Woodlands', 'West End', 'Yaletown', 'Downtown', 'Yaletown', 'Sunset', 'Renfrew-Collingwood', 'Downtown', 'Kitsilano', 'Kensington-Cedar Cottage', 'West End', 'West End', 'Kensington-Cedar Cottage', 'Granville Entertainment District', 'Downtown', 'Downtown', 'Kitsilano', 'Mount Pleasant', 'Marpole'], ['Mount Pleasant', 'West End', 'Downtown', 'Riley Park', 'Kitsilano', 'Chinatown', 'Kitsilano', 'West End', 'Downtown Eastside', 'Fairview Slopes', 'West End', 'Yaletown', 'Granville Entertainment District', 'Sunset', 'Chinatown', 'Marpole', 'Hastings-Sunrise', 'West End', 'Coal Harbour', 'The Drive', 'Riley Park', 'South Cambie', 'Arbutus Ridge', 'Chinatown', 'West End', 'Hastings-Sunrise', 'Downtown', 'West End', 'Oakridge', 'Mount Pleasant']] 2\n"
     ]
    }
   ],
   "source": [
    "print(neigh, len(neigh))"
   ]
  },
  {
   "cell_type": "code",
   "execution_count": 44,
   "metadata": {
    "scrolled": true
   },
   "outputs": [
    {
     "data": {
      "text/plain": [
       "61"
      ]
     },
     "execution_count": 44,
     "metadata": {},
     "output_type": "execute_result"
    }
   ],
   "source": [
    "flat  = list(itertools.chain(*neigh))\n",
    "len(flat)"
   ]
  },
  {
   "cell_type": "markdown",
   "metadata": {},
   "source": [
    "itertools.chain(*iterables)\n",
    "Make an iterator that returns elements from the first iterable until it is exhausted, then proceeds to the next iterable, until all of the iterables are exhausted. Used for treating consecutive sequences as a single sequence. Roughly equivalent to:\n",
    "\n",
    "def chain(*iterables):\n",
    "    # chain('ABC', 'DEF') --> A B C D E F\n",
    "    for it in iterables:\n",
    "        for element in it:\n",
    "            yield element"
   ]
  },
  {
   "cell_type": "code",
   "execution_count": 48,
   "metadata": {},
   "outputs": [],
   "source": [
    "# multi page scrapping to CSV output\n",
    "\n",
    "name = []\n",
    "cuisine = []\n",
    "ratings = []\n",
    "reviews = []\n",
    "price = []\n",
    "add = []\n",
    "tel = []\n",
    "neigh = []\n",
    "\n",
    "for i in range(0, 211, 30):\n",
    "    soup = make_soup('https://www.yelp.ca/search?find_desc=Restaurants&find_loc=Vancouver%2C%20BC&ns=1&start=' + str(i))\n",
    "    mains = soup.find_all(\"div\", {\"class\": \"lemon--div__373c0__1mboc mainAttributes__373c0__1r0QA arrange-unit__373c0__o3tjT arrange-unit-fill__373c0__3Sfw1 border-color--default__373c0__3-ifU\"})\n",
    "    second = soup.find_all(\"div\", {\"class\":\"lemon--div__373c0__1mboc secondaryAttributes__373c0__7bA0w arrange-unit__373c0__o3tjT border-color--default__373c0__3-ifU\"})\n",
    "    for main in mains:\n",
    "        try:\n",
    "            name.append(main.find('a').text)\n",
    "        except:\n",
    "            name.append('none')\n",
    "        try:\n",
    "            cuisine.append(main.find('a', {'class': 'lemon--a__373c0__IEZFH link__373c0__1G70M link-color--inherit__373c0__3dzpk link-size--default__373c0__7tls6'}).text)\n",
    "        except:\n",
    "            print('none')\n",
    "        try:\n",
    "            ratings.append(main.find('span', {'class': 'lemon--span__373c0__3997G display--inline__373c0__3JqBP border-color--default__373c0__3-ifU'}).div.get('aria-label'))\n",
    "        except:\n",
    "            ratings.append('none')\n",
    "        try:\n",
    "            reviews.append(main.find(\"span\", {\"class\": \"lemon--span__373c0__3997G text__373c0__2Kxyz reviewCount__373c0__2r4xT text-color--black-extra-light__373c0__2OyzO text-align--left__373c0__2XGa-\"}).text)\n",
    "        except:\n",
    "            reviews.append('none')\n",
    "        try:\n",
    "            price.append(main.find(\"span\", {\"class\": \"lemon--span__373c0__3997G text__373c0__2Kxyz priceRange__373c0__2DY87 text-color--black-extra-light__373c0__2OyzO text-align--left__373c0__2XGa- text-bullet--after__373c0__3fS1Z\"}).text)\n",
    "        except:\n",
    "            price.append('none')\n",
    "\n",
    "    for sec in second:\n",
    "        try:       \n",
    "            add.append(sec.address.find(\"p\", {\"class\": \"lemon--p__373c0__3Qnnj text__373c0__2Kxyz text-color--black-extra-light__373c0__2OyzO text-align--right__373c0__1f0KI text-size--small__373c0__3NVWO\"}).text)\n",
    "        except:\n",
    "            add.append(\"None\")\n",
    "        try:\n",
    "            tel.append(sec.div.div.text)\n",
    "        except: \n",
    "            tel.append(\"None\")\n",
    "    n = [item.get_text() for item in soup.find_all('p', class_ = 'lemon--p__373c0__3Qnnj text__373c0__2Kxyz text-color--black-extra-light__373c0__2OyzO text-align--right__373c0__1f0KI text-size--small__373c0__3NVWO')]\n",
    "    n1 = [x if (bool(re.search(r'\\d+', x)) == False) else \"None\" for x in n]\n",
    "    n2 = list(filter(lambda x: x != 'None', n1))\n",
    "    neigh.append(n2)\n",
    "    new_tel = [x if (bool(re.search(r'[0-9]{10}|[0-9]{3}-[0-9]{3}-[0-9]{4}|\\([0-9]{3}\\)[0-9]{3}-[0-9]{4}|\\(\\d\\d\\d\\)\\s\\d\\d\\d-\\d\\d\\d\\d', x)) == True) else \"None\" for x in tel]\n",
    "\n",
    "flat  = list(itertools.chain(*neigh))\n",
    "data = {}\n",
    "data = {'Restaurant_Name': name, 'Cuisine': cuisine, 'Restaurant_Ratings': ratings, 'Restaurant_Reviews': reviews, \n",
    "        'Restaurant_Price': price, 'Restaurant_Address': add, 'Restaurant_Telephone': new_tel, 'Neighbourhood': flat[0:248]}\n",
    "rest = pd.DataFrame(data)\n",
    "header = [\"Restaurant_Name\", \"Cuisine\", \"Restaurant_Ratings\", \"Restaurant_Reviews\", \"Restaurant_Price\", \"Restaurant_Address\", \"Restaurant_Telephone\", \"Neighbourhood\"]\n",
    "rest.to_csv(\"ProjectFinal.csv\", columns = header)"
   ]
  },
  {
   "cell_type": "code",
   "execution_count": 49,
   "metadata": {},
   "outputs": [],
   "source": [
    "client = MongoClient('localhost',27017)\n",
    "yelp = client.rest_db.rest_table"
   ]
  },
  {
   "cell_type": "code",
   "execution_count": 50,
   "metadata": {},
   "outputs": [],
   "source": [
    "rest.reset_index(inplace=True)\n",
    "rest_dict = rest.to_dict(\"records\")"
   ]
  },
  {
   "cell_type": "code",
   "execution_count": 51,
   "metadata": {},
   "outputs": [
    {
     "data": {
      "text/plain": [
       "<pymongo.results.InsertManyResult at 0x2b81ffc1548>"
      ]
     },
     "execution_count": 51,
     "metadata": {},
     "output_type": "execute_result"
    }
   ],
   "source": [
    "yelp.insert_many(rest_dict)"
   ]
  },
  {
   "cell_type": "code",
   "execution_count": 52,
   "metadata": {},
   "outputs": [
    {
     "data": {
      "text/plain": [
       "(248, 9)"
      ]
     },
     "execution_count": 52,
     "metadata": {},
     "output_type": "execute_result"
    }
   ],
   "source": [
    "rest.shape"
   ]
  },
  {
   "cell_type": "code",
   "execution_count": 6,
   "metadata": {},
   "outputs": [],
   "source": [
    "df=pd.read_csv('ProjectFinal.csv')"
   ]
  },
  {
   "cell_type": "code",
   "execution_count": 7,
   "metadata": {},
   "outputs": [
    {
     "data": {
      "text/plain": [
       "Unnamed: 0               int64\n",
       "Restaurant_Name         object\n",
       "Cuisine                 object\n",
       "Restaurant_Ratings      object\n",
       "Restaurant_Reviews      object\n",
       "Restaurant_Price        object\n",
       "Restaurant_Address      object\n",
       "Restaurant_Telephone    object\n",
       "Neighbourhood           object\n",
       "dtype: object"
      ]
     },
     "execution_count": 7,
     "metadata": {},
     "output_type": "execute_result"
    }
   ],
   "source": [
    "df.dtypes"
   ]
  },
  {
   "cell_type": "code",
   "execution_count": 8,
   "metadata": {},
   "outputs": [
    {
     "data": {
      "text/plain": [
       "array(['none', '1095', '116', '950', '676', '10', '932', '777', '6',\n",
       "       '1303', '15', '930', '201', '31', '902', '326', '102', '254',\n",
       "       '1349', '11', '70', '336', '836', '28', '190', '1785', '12', '9',\n",
       "       '4', '205', '184', '562', '14', '60', '371', '283', '1020', '432',\n",
       "       '52', '170', '428', '3', '22', '37', '35', '7', '505', '460',\n",
       "       '325', '13', '97', '155', '364', '96', '986', '18', '445', '537',\n",
       "       '730', '134', '2', '214', '26', '449', '724', '421', '20', '344',\n",
       "       '2282', '632', '8', '33', '146', '455', '1', '82', '16', '93',\n",
       "       '128', '147', '355', '297', '275', '62', '17', '75', '380', '569',\n",
       "       '681', '21', '194', '19', '249', '40', '1029', '282', '90', '738',\n",
       "       '211', '27', '609', '53', '113', '104', '392', '46', '693', '29',\n",
       "       '1067', '47', '678', '25', '167', '185', '61', '99', '271', '196',\n",
       "       '209', '182', '187', '294', '181', '248', '488', '42', '140',\n",
       "       '138', '5', '324', '272', '423', '84', '346', '491', '197', '171',\n",
       "       '131', '269', '387', '71', '143', '30', '334', '473', '163', '947',\n",
       "       '132', '118', '420', '166', '125', '123', '148', '273', '329',\n",
       "       '39', '331', '614', '542', '286', '112', '229', '154', '50', '88',\n",
       "       '195', '444', '172', '49', '54', '180', '51', '44', '45', '103',\n",
       "       '578'], dtype=object)"
      ]
     },
     "execution_count": 8,
     "metadata": {},
     "output_type": "execute_result"
    }
   ],
   "source": [
    "df['Restaurant_Reviews'].unique()"
   ]
  },
  {
   "cell_type": "code",
   "execution_count": 9,
   "metadata": {},
   "outputs": [],
   "source": [
    "df['Restaurant_Reviews']=df['Restaurant_Reviews'].replace('none',0)"
   ]
  },
  {
   "cell_type": "code",
   "execution_count": 10,
   "metadata": {},
   "outputs": [
    {
     "data": {
      "text/plain": [
       "array([0, '1095', '116', '950', '676', '10', '932', '777', '6', '1303',\n",
       "       '15', '930', '201', '31', '902', '326', '102', '254', '1349', '11',\n",
       "       '70', '336', '836', '28', '190', '1785', '12', '9', '4', '205',\n",
       "       '184', '562', '14', '60', '371', '283', '1020', '432', '52', '170',\n",
       "       '428', '3', '22', '37', '35', '7', '505', '460', '325', '13', '97',\n",
       "       '155', '364', '96', '986', '18', '445', '537', '730', '134', '2',\n",
       "       '214', '26', '449', '724', '421', '20', '344', '2282', '632', '8',\n",
       "       '33', '146', '455', '1', '82', '16', '93', '128', '147', '355',\n",
       "       '297', '275', '62', '17', '75', '380', '569', '681', '21', '194',\n",
       "       '19', '249', '40', '1029', '282', '90', '738', '211', '27', '609',\n",
       "       '53', '113', '104', '392', '46', '693', '29', '1067', '47', '678',\n",
       "       '25', '167', '185', '61', '99', '271', '196', '209', '182', '187',\n",
       "       '294', '181', '248', '488', '42', '140', '138', '5', '324', '272',\n",
       "       '423', '84', '346', '491', '197', '171', '131', '269', '387', '71',\n",
       "       '143', '30', '334', '473', '163', '947', '132', '118', '420',\n",
       "       '166', '125', '123', '148', '273', '329', '39', '331', '614',\n",
       "       '542', '286', '112', '229', '154', '50', '88', '195', '444', '172',\n",
       "       '49', '54', '180', '51', '44', '45', '103', '578'], dtype=object)"
      ]
     },
     "execution_count": 10,
     "metadata": {},
     "output_type": "execute_result"
    }
   ],
   "source": [
    "df['Restaurant_Reviews'].unique()"
   ]
  },
  {
   "cell_type": "code",
   "execution_count": 11,
   "metadata": {},
   "outputs": [],
   "source": [
    "df['Restaurant_Reviews']=df['Restaurant_Reviews'].astype('int')"
   ]
  },
  {
   "cell_type": "code",
   "execution_count": 12,
   "metadata": {},
   "outputs": [
    {
     "data": {
      "text/plain": [
       "Unnamed: 0               int64\n",
       "Restaurant_Name         object\n",
       "Cuisine                 object\n",
       "Restaurant_Ratings      object\n",
       "Restaurant_Reviews       int32\n",
       "Restaurant_Price        object\n",
       "Restaurant_Address      object\n",
       "Restaurant_Telephone    object\n",
       "Neighbourhood           object\n",
       "dtype: object"
      ]
     },
     "execution_count": 12,
     "metadata": {},
     "output_type": "execute_result"
    }
   ],
   "source": [
    "df.dtypes"
   ]
  },
  {
   "cell_type": "code",
   "execution_count": 56,
   "metadata": {},
   "outputs": [
    {
     "data": {
      "text/plain": [
       "Restaurant_Name\n",
       "Medina Cafe    2282\n",
       "Miku           1785\n",
       "Japadog        1716\n",
       "Chambar        1349\n",
       "Phnom Penh     1303\n",
       "Name: Restaurant_Reviews, dtype: int32"
      ]
     },
     "execution_count": 56,
     "metadata": {},
     "output_type": "execute_result"
    }
   ],
   "source": [
    "re=df.groupby('Restaurant_Name').sum()['Restaurant_Reviews'].sort_values(ascending=False).head(5)\n",
    "re"
   ]
  },
  {
   "cell_type": "code",
   "execution_count": 58,
   "metadata": {},
   "outputs": [],
   "source": [
    "re.sort_values(inplace=True)"
   ]
  },
  {
   "cell_type": "code",
   "execution_count": 59,
   "metadata": {},
   "outputs": [
    {
     "data": {
      "text/plain": [
       "Text(0.5, 1.0, 'Top 5 Popular Resturants by Reviews')"
      ]
     },
     "execution_count": 59,
     "metadata": {},
     "output_type": "execute_result"
    },
    {
     "data": {
      "image/png": "[encoded data removed]",
      "text/plain": [
       "<Figure size 432x288 with 1 Axes>"
      ]
     },
     "metadata": {
      "needs_background": "light"
     },
     "output_type": "display_data"
    }
   ],
   "source": [
    "re.plot(kind='barh',color='green')\n",
    "plt.xlabel(\"No of Reviews\")\n",
    "plt.ylabel(\"Rest Name\")\n",
    "plt.title(\"Top 5 Popular Resturants by Reviews\")"
   ]
  },
  {
   "cell_type": "code",
   "execution_count": 23,
   "metadata": {},
   "outputs": [
    {
     "data": {
      "text/plain": [
       "West End                    40\n",
       "Downtown                    36\n",
       "Kitsilano                   20\n",
       "Mount Pleasant              19\n",
       "Kensington-Cedar Cottage    14\n",
       "Name: Neighbourhood, dtype: int64"
      ]
     },
     "execution_count": 23,
     "metadata": {},
     "output_type": "execute_result"
    }
   ],
   "source": [
    "Top5Neigh=df['Neighbourhood'].value_counts().head(5)\n",
    "Top5Neigh"
   ]
  },
  {
   "cell_type": "code",
   "execution_count": 25,
   "metadata": {},
   "outputs": [],
   "source": [
    "Top5Neigh.sort_values(inplace=True)"
   ]
  },
  {
   "cell_type": "code",
   "execution_count": 27,
   "metadata": {},
   "outputs": [
    {
     "data": {
      "text/plain": [
       "Text(0.5, 1.0, 'Top 5 Neighbourhoods by No of Resturants')"
      ]
     },
     "execution_count": 27,
     "metadata": {},
     "output_type": "execute_result"
    },
    {
     "data": {
      "image/png": "[encoded data removed]",
      "text/plain": [
       "<Figure size 432x288 with 1 Axes>"
      ]
     },
     "metadata": {
      "needs_background": "light"
     },
     "output_type": "display_data"
    }
   ],
   "source": [
    "Top5Neigh.plot(kind='barh')\n",
    "plt.xlabel(\"No of Resturants\")\n",
    "plt.title(\"Top 5 Neighbourhoods by No of Resturants\")"
   ]
  },
  {
   "cell_type": "code",
   "execution_count": 30,
   "metadata": {},
   "outputs": [
    {
     "data": {
      "text/plain": [
       "Korean        19\n",
       "Chinese       16\n",
       "Italian       15\n",
       "Japanese      15\n",
       "Vietnamese    14\n",
       "Name: Cuisine, dtype: int64"
      ]
     },
     "execution_count": 30,
     "metadata": {},
     "output_type": "execute_result"
    }
   ],
   "source": [
    "top5cuisine=df['Cuisine'].value_counts().head(5)\n",
    "top5cuisine"
   ]
  },
  {
   "cell_type": "code",
   "execution_count": 33,
   "metadata": {},
   "outputs": [],
   "source": [
    "top5cuisine.sort_values(inplace=True)"
   ]
  },
  {
   "cell_type": "code",
   "execution_count": 36,
   "metadata": {},
   "outputs": [
    {
     "data": {
      "text/plain": [
       "Text(0.5, 1.0, 'Top 5 Cuisines in Vancouver')"
      ]
     },
     "execution_count": 36,
     "metadata": {},
     "output_type": "execute_result"
    },
    {
     "data": {
      "image/png": "[encoded data removed]",
      "text/plain": [
       "<Figure size 432x288 with 1 Axes>"
      ]
     },
     "metadata": {
      "needs_background": "light"
     },
     "output_type": "display_data"
    }
   ],
   "source": [
    "top5cuisine.plot(kind='barh',color='orange')\n",
    "plt.xlabel(\"No of Resturants\")\n",
    "plt.title(\"Top 5 Cuisines in Vancouver\")"
   ]
  },
  {
   "cell_type": "code",
   "execution_count": 39,
   "metadata": {},
   "outputs": [
    {
     "data": {
      "text/plain": [
       "Restaurant_Ratings\n",
       "4 star rating      285.977612\n",
       "4.5 star rating    192.223684\n",
       "3.5 star rating    148.176471\n",
       "5 star rating       27.250000\n",
       "3 star rating       23.333333\n",
       "Name: Restaurant_Reviews, dtype: float64"
      ]
     },
     "execution_count": 39,
     "metadata": {},
     "output_type": "execute_result"
    }
   ],
   "source": [
    "rat=df.groupby('Restaurant_Ratings').mean()['Restaurant_Reviews'].sort_values(ascending=False).head()\n",
    "rat"
   ]
  },
  {
   "cell_type": "code",
   "execution_count": 61,
   "metadata": {},
   "outputs": [
    {
     "data": {
      "text/plain": [
       "Text(0.5, 1.0, ' Avg No of Reviews by Ratings')"
      ]
     },
     "execution_count": 61,
     "metadata": {},
     "output_type": "execute_result"
    },
    {
     "data": {
      "image/png": "[encoded data removed]",
      "text/plain": [
       "<Figure size 432x288 with 1 Axes>"
      ]
     },
     "metadata": {
      "needs_background": "light"
     },
     "output_type": "display_data"
    }
   ],
   "source": [
    "rat.plot(kind='barh',color='green')\n",
    "plt.xlabel(\"No of Reviews\")\n",
    "plt.ylabel(\"Rest Rating\")\n",
    "plt.title(\" Avg No of Reviews by Ratings\")"
   ]
  },
  {
   "cell_type": "code",
   "execution_count": 43,
   "metadata": {},
   "outputs": [],
   "source": [
    "labels=[{'4 star':'286'},{'4.5star':'192'},{'3.5 star':'148'},{'3star':'23'},{'5 star':'27'}]"
   ]
  },
  {
   "cell_type": "code",
   "execution_count": 60,
   "metadata": {},
   "outputs": [
    {
     "data": {
      "text/plain": [
       "Text(0.5, 1.0, 'Average No of Reviews by Ratings')"
      ]
     },
     "execution_count": 60,
     "metadata": {},
     "output_type": "execute_result"
    },
    {
     "data": {
      "image/png": "[encoded data removed]",
      "text/plain": [
       "<Figure size 432x288 with 1 Axes>"
      ]
     },
     "metadata": {},
     "output_type": "display_data"
    }
   ],
   "source": [
    "plt.pie(rat, labels=labels ,wedgeprops={'edgecolor':'black'})\n",
    "plt.title(\"Average No of Reviews by Ratings\")"
   ]
  },
  {
   "cell_type": "code",
   "execution_count": 46,
   "metadata": {},
   "outputs": [
    {
     "data": {
      "text/plain": [
       "Text(0, 0.5, 'Rest Ratings')"
      ]
     },
     "execution_count": 46,
     "metadata": {},
     "output_type": "execute_result"
    },
    {
     "data": {
      "image/png": "[encoded data removed]",
      "text/plain": [
       "<Figure size 432x288 with 1 Axes>"
      ]
     },
     "metadata": {
      "needs_background": "light"
     },
     "output_type": "display_data"
    }
   ],
   "source": [
    "sns.countplot(y='Restaurant_Ratings',data=df,orient=\"v\")\n",
    "plt.title(\"Number of Restaurants by ratings\")\n",
    "plt.xlabel(\"Number of Resturants\")\n",
    "plt.ylabel(\"Rest Ratings\")"
   ]
  },
  {
   "cell_type": "code",
   "execution_count": 48,
   "metadata": {},
   "outputs": [
    {
     "data": {
      "text/html": [
       "<div>\n",
       "<style scoped>\n",
       "    .dataframe tbody tr th:only-of-type {\n",
       "        vertical-align: middle;\n",
       "    }\n",
       "\n",
       "    .dataframe tbody tr th {\n",
       "        vertical-align: top;\n",
       "    }\n",
       "\n",
       "    .dataframe thead th {\n",
       "        text-align: right;\n",
       "    }\n",
       "</style>\n",
       "<table border=\"1\" class=\"dataframe\">\n",
       "  <thead>\n",
       "    <tr style=\"text-align: right;\">\n",
       "      <th></th>\n",
       "      <th>Unnamed: 0</th>\n",
       "      <th>Cuisine</th>\n",
       "      <th>Restaurant_Ratings</th>\n",
       "      <th>Restaurant_Reviews</th>\n",
       "      <th>Restaurant_Price</th>\n",
       "      <th>Restaurant_Address</th>\n",
       "      <th>Restaurant_Telephone</th>\n",
       "      <th>Neighbourhood</th>\n",
       "    </tr>\n",
       "    <tr>\n",
       "      <th>Restaurant_Name</th>\n",
       "      <th></th>\n",
       "      <th></th>\n",
       "      <th></th>\n",
       "      <th></th>\n",
       "      <th></th>\n",
       "      <th></th>\n",
       "      <th></th>\n",
       "      <th></th>\n",
       "    </tr>\n",
       "  </thead>\n",
       "  <tbody>\n",
       "    <tr>\n",
       "      <th>Absinthe Bistro</th>\n",
       "      <td>1</td>\n",
       "      <td>1</td>\n",
       "      <td>1</td>\n",
       "      <td>1</td>\n",
       "      <td>1</td>\n",
       "      <td>1</td>\n",
       "      <td>1</td>\n",
       "      <td>1</td>\n",
       "    </tr>\n",
       "    <tr>\n",
       "      <th>Afghan Horsemen Restaurant</th>\n",
       "      <td>1</td>\n",
       "      <td>1</td>\n",
       "      <td>1</td>\n",
       "      <td>1</td>\n",
       "      <td>1</td>\n",
       "      <td>1</td>\n",
       "      <td>1</td>\n",
       "      <td>1</td>\n",
       "    </tr>\n",
       "    <tr>\n",
       "      <th>Ajs Brooklyn Pizza Joint</th>\n",
       "      <td>1</td>\n",
       "      <td>1</td>\n",
       "      <td>1</td>\n",
       "      <td>1</td>\n",
       "      <td>1</td>\n",
       "      <td>1</td>\n",
       "      <td>1</td>\n",
       "      <td>1</td>\n",
       "    </tr>\n",
       "    <tr>\n",
       "      <th>Aleph Eatery</th>\n",
       "      <td>1</td>\n",
       "      <td>1</td>\n",
       "      <td>1</td>\n",
       "      <td>1</td>\n",
       "      <td>1</td>\n",
       "      <td>1</td>\n",
       "      <td>1</td>\n",
       "      <td>1</td>\n",
       "    </tr>\n",
       "    <tr>\n",
       "      <th>Alibi Room</th>\n",
       "      <td>1</td>\n",
       "      <td>1</td>\n",
       "      <td>1</td>\n",
       "      <td>1</td>\n",
       "      <td>1</td>\n",
       "      <td>1</td>\n",
       "      <td>1</td>\n",
       "      <td>1</td>\n",
       "    </tr>\n",
       "    <tr>\n",
       "      <th>...</th>\n",
       "      <td>...</td>\n",
       "      <td>...</td>\n",
       "      <td>...</td>\n",
       "      <td>...</td>\n",
       "      <td>...</td>\n",
       "      <td>...</td>\n",
       "      <td>...</td>\n",
       "      <td>...</td>\n",
       "    </tr>\n",
       "    <tr>\n",
       "      <th>Z&amp;W Shanghai</th>\n",
       "      <td>1</td>\n",
       "      <td>1</td>\n",
       "      <td>1</td>\n",
       "      <td>1</td>\n",
       "      <td>1</td>\n",
       "      <td>1</td>\n",
       "      <td>1</td>\n",
       "      <td>1</td>\n",
       "    </tr>\n",
       "    <tr>\n",
       "      <th>Zaatar W Zeit</th>\n",
       "      <td>1</td>\n",
       "      <td>1</td>\n",
       "      <td>1</td>\n",
       "      <td>1</td>\n",
       "      <td>1</td>\n",
       "      <td>1</td>\n",
       "      <td>1</td>\n",
       "      <td>1</td>\n",
       "    </tr>\n",
       "    <tr>\n",
       "      <th>ZamZam</th>\n",
       "      <td>1</td>\n",
       "      <td>1</td>\n",
       "      <td>1</td>\n",
       "      <td>1</td>\n",
       "      <td>1</td>\n",
       "      <td>1</td>\n",
       "      <td>1</td>\n",
       "      <td>1</td>\n",
       "    </tr>\n",
       "    <tr>\n",
       "      <th>Zefferelli’s</th>\n",
       "      <td>1</td>\n",
       "      <td>1</td>\n",
       "      <td>1</td>\n",
       "      <td>1</td>\n",
       "      <td>1</td>\n",
       "      <td>1</td>\n",
       "      <td>1</td>\n",
       "      <td>1</td>\n",
       "    </tr>\n",
       "    <tr>\n",
       "      <th>Zocalo Modern Cantina</th>\n",
       "      <td>1</td>\n",
       "      <td>1</td>\n",
       "      <td>1</td>\n",
       "      <td>1</td>\n",
       "      <td>1</td>\n",
       "      <td>1</td>\n",
       "      <td>1</td>\n",
       "      <td>1</td>\n",
       "    </tr>\n",
       "  </tbody>\n",
       "</table>\n",
       "<p>235 rows × 8 columns</p>\n",
       "</div>"
      ],
      "text/plain": [
       "                            Unnamed: 0  Cuisine  Restaurant_Ratings  \\\n",
       "Restaurant_Name                                                       \n",
       "Absinthe Bistro                      1        1                   1   \n",
       "Afghan Horsemen Restaurant           1        1                   1   \n",
       "Ajs Brooklyn Pizza Joint             1        1                   1   \n",
       "Aleph Eatery                         1        1                   1   \n",
       "Alibi Room                           1        1                   1   \n",
       "...                                ...      ...                 ...   \n",
       "Z&W Shanghai                         1        1                   1   \n",
       "Zaatar W Zeit                        1        1                   1   \n",
       "ZamZam                               1        1                   1   \n",
       "Zefferelli’s                         1        1                   1   \n",
       "Zocalo Modern Cantina                1        1                   1   \n",
       "\n",
       "                            Restaurant_Reviews  Restaurant_Price  \\\n",
       "Restaurant_Name                                                    \n",
       "Absinthe Bistro                              1                 1   \n",
       "Afghan Horsemen Restaurant                   1                 1   \n",
       "Ajs Brooklyn Pizza Joint                     1                 1   \n",
       "Aleph Eatery                                 1                 1   \n",
       "Alibi Room                                   1                 1   \n",
       "...                                        ...               ...   \n",
       "Z&W Shanghai                                 1                 1   \n",
       "Zaatar W Zeit                                1                 1   \n",
       "ZamZam                                       1                 1   \n",
       "Zefferelli’s                                 1                 1   \n",
       "Zocalo Modern Cantina                        1                 1   \n",
       "\n",
       "                            Restaurant_Address  Restaurant_Telephone  \\\n",
       "Restaurant_Name                                                        \n",
       "Absinthe Bistro                              1                     1   \n",
       "Afghan Horsemen Restaurant                   1                     1   \n",
       "Ajs Brooklyn Pizza Joint                     1                     1   \n",
       "Aleph Eatery                                 1                     1   \n",
       "Alibi Room                                   1                     1   \n",
       "...                                        ...                   ...   \n",
       "Z&W Shanghai                                 1                     1   \n",
       "Zaatar W Zeit                                1                     1   \n",
       "ZamZam                                       1                     1   \n",
       "Zefferelli’s                                 1                     1   \n",
       "Zocalo Modern Cantina                        1                     1   \n",
       "\n",
       "                            Neighbourhood  \n",
       "Restaurant_Name                            \n",
       "Absinthe Bistro                         1  \n",
       "Afghan Horsemen Restaurant              1  \n",
       "Ajs Brooklyn Pizza Joint                1  \n",
       "Aleph Eatery                            1  \n",
       "Alibi Room                              1  \n",
       "...                                   ...  \n",
       "Z&W Shanghai                            1  \n",
       "Zaatar W Zeit                           1  \n",
       "ZamZam                                  1  \n",
       "Zefferelli’s                            1  \n",
       "Zocalo Modern Cantina                   1  \n",
       "\n",
       "[235 rows x 8 columns]"
      ]
     },
     "execution_count": 48,
     "metadata": {},
     "output_type": "execute_result"
    }
   ],
   "source": [
    "rest=df.groupby('Restaurant_Name').count()\n",
    "rest"
   ]
  },
  {
   "cell_type": "code",
   "execution_count": 50,
   "metadata": {},
   "outputs": [
    {
     "data": {
      "text/plain": [
       "Text(0.5, 1.0, 'Count of Restaurants by Number of outlets')"
      ]
     },
     "execution_count": 50,
     "metadata": {},
     "output_type": "execute_result"
    },
    {
     "data": {
      "image/png": "[encoded data removed]",
      "text/plain": [
       "<Figure size 432x288 with 1 Axes>"
      ]
     },
     "metadata": {
      "needs_background": "light"
     },
     "output_type": "display_data"
    }
   ],
   "source": [
    "sns.countplot(y='Restaurant_Ratings',data=rest)\n",
    "plt.xlabel(\"Count of Restaurants\")\n",
    "plt.ylabel(\"No of outlets\")\n",
    "plt.title(\"Count of Restaurants by Number of outlets\")"
   ]
  },
  {
   "cell_type": "code",
   "execution_count": null,
   "metadata": {},
   "outputs": [],
   "source": []
  }
 ],
 "metadata": {
  "kernelspec": {
   "display_name": "Python 3",
   "language": "python",
   "name": "python3"
  },
  "language_info": {
   "codemirror_mode": {
    "name": "ipython",
    "version": 3
   },
   "file_extension": ".py",
   "mimetype": "text/x-python",
   "name": "python",
   "nbconvert_exporter": "python",
   "pygments_lexer": "ipython3",
   "version": "3.7.4"
  }
 },
 "nbformat": 4,
 "nbformat_minor": 2
}
